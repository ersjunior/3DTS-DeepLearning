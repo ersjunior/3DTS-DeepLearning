{
 "cells": [
  {
   "cell_type": "markdown",
   "metadata": {},
   "source": [
    "# <p style='font-size: 28px; color:#e91c5d; text-align: Center;'><b>Desafio Deep Learning - Aprimorando a Detecção de Fraudes na QuantumFinance</b></p>\n",
    "\n",
    "<hr style='border: 1px solid #e91c5d; 0px; max-width: 90vw' color=e91c5d>"
   ]
  },
  {
   "cell_type": "markdown",
   "metadata": {},
   "source": [
    "<p style='font-size: 18px; line-height: 1; margin: 0px 0px; text-align: center; text-indent: 0px; max-width: 100vw;'>\n",
    "<b><font color=e91c5d>Contexto:</font></b><br><br>\n",
    "<p style='font-size: 18px; line-height: 1; margin: 0px 0px; text-align: center; text-indent: 0px; max-width: 100vw;'>\n",
    "A QuantumFinance está comprometida em oferecer serviços financeiros seguros e eficientes para seus clientes.<br> Uma das principais ameaças ao setor financeiro é a fraude.<br> Sua missão é melhorar o sistema de detecção de fraudes da empresa usando técnicas avançadas de deep learning.</p><br>\n",
    "\n",
    "<hr style='max-width: 85vw'><br>\n",
    "\n",
    "<p style='font-size: 18px; line-height: 1; margin: 0px 0px; text-align: center; text-indent: 0px; max-width: 100vw;'>\n",
    "<b><font color=e91c5d>Tarefa:</font></b><br><br>\n",
    "<p style='font-size: 18px; line-height: 1; margin: 0px 0px; text-align: center; text-indent: 0px; max-width: 100vw;'>\n",
    "A tarefa principal é criar um modelo de deep learning para detectar transações fraudulentas.<br> Você receberá um conjunto de dados de transações financeiras, que inclui recursos como valor da transação, horário, tipo de transação, entre outros.<br> Algumas dessas transações são fraudulentas, enquanto outras são legítimas.     \n",
    "</p><br>\n",
    "\n",
    "<!--<hr style='border: 1px solid #e91c5d;' color=e91c5d>-->\n",
    "<hr style='max-width: 85vw'>"
   ]
  },
  {
   "cell_type": "markdown",
   "metadata": {},
   "source": [
    "<p style='font-size: 18px; line-height: 1; margin: 0px 0px; text-align: center; text-indent: 0px; max-width: 100vw;'>\n",
    "<b><font color=e91c5d>Requisitos:</font></b><br><br>\n",
    "\n",
    "<p style='font-size: 18px; line-height: 1; margin: 0px 0px; text-align: center; text-indent: 0px; max-width: 75vw; margin:auto;'>\n",
    "1. Análise Exploratória de Dados: Comece realizando uma análise exploratória dos dados fornecidos. Compreenda a distribuição das características, identifique possíveis desequilíbrios entre transações fraudulentas e legítimas, e explore qualquer padrão ou tendência que possa ser útil para a detecção de fraudes.<br><br>\n",
    "2. Pré-processamento de Dados: Realize pré-processamento nos dados, codificação de variáveis categóricas, normalização ou padronização, se necessário.<br><br>\n",
    "3. Modelo de Deep Learning: Escolha uma arquitetura de rede neural profunda (como CNN, LSTM, ou modelos de Transformer) para treinar um modelo de detecção de fraudes. Divida os dados em conjuntos de treinamento, validação e teste. Treine o modelo usando o conjunto de treinamento e ajuste seus hiperparâmetros usando o conjunto de validação.<br><br>\n",
    "4. Desempenho: Avalie o desempenho do modelo usando métricas apropriadas, como precisão, recall, F1-score, área sob a curva ROC (AUC-ROC) e matriz de confusão. Certifique-se de lidar adequadamente com o desequilíbrio de classes, se houver.<br><br>\n",
    "5. Apresentação de Resultados: Prepare um relatório técnico que descreva seu processo de modelagem, escolha de arquitetura, hiperparâmetros e resultados de desempenho. Também destaque quaisquer insights ou observações importantes da análise.<br><br>\n",
    "\n",
    "<hr style='max-width: 85vw'><br>\n",
    "\n",
    "<p style='font-size: 18px; line-height: 1; margin: 0px 0px; text-align: center; text-indent: 0px; max-width: 100vw;'>\n",
    "<b><font color=e91c5d>Entregáveis:</font></b><br><br>\n",
    "\n",
    "<p style='font-size: 18px; line-height: 1; margin: 0px 0px; text-align: center; text-indent: 0px; max-width: 75vw; margin:auto;'>\n",
    "1. Código Python ou R bem documentado que inclua todo o processo de análise de dados, pré-processamento, treinamento de modelo e avaliação de desempenho.\n",
    "2. Um relatório técnico descrevendo sua abordagem, resultados e conclusões.<br><br>\n",
    "\n",
    "<hr style='max-width: 85vw'><br>\n",
    "\n",
    "<p style='font-size: 18px; line-height: 1; margin: 0px 0px; text-align: center; text-indent: 0px; max-width: 100vw;'>\n",
    "<b><font color=e91c5d>Critérios de Avaliação:</font></b><br><br>\n",
    "\n",
    "<p style='font-size: 18px; line-height: 1; margin: 0px 0px; text-align: center; text-indent: 0px; max-width: 75vw; margin:auto;'>\n",
    "Os projetos serão avaliados com base nos seguintes critérios:<br><br>\n",
    "<p style='font-size: 18px; line-height: 1; margin: 0px 0px; text-align: center; text-indent: 0px; max-width: 100vw; margin:auto;'>\n",
    "    1. Qualidade do modelo de deep learning e desempenho na detecção de fraudes.<br><br>\n",
    "    2. Profundidade da análise exploratória de dados.<br><br>\n",
    "    3. Eficácia do pré-processamento de dados.<br><br>\n",
    "    4. Documentação clara do código.<br><br>\n",
    "    5. Qualidade do relatório técnico e apresentação dos resultados.<br><br>\n",
    "\n",
    "<hr style='max-width: 85vw'><br>"
   ]
  },
  {
   "cell_type": "markdown",
   "metadata": {},
   "source": [
    "# <p style='font-size: 28px; color:#e91c5d; text-align: Center;'><b>1) Análise Exploratória de Dados:</b></p>\n",
    "<hr style='border: 1px solid #e91c5d; 0px; max-width: 90vw' color=e91c5d><br>\n",
    "<p style='font-size: 18px; line-height: 1; margin: 0px 0px; text-align: center; text-indent: 0px; max-width: 75vw; margin:auto;'>\n",
    "<b>Desafio: </b>Comece realizando uma análise exploratória dos dados fornecidos. Compreenda a distribuição das características, identifique possíveis desequilíbrios entre transações fraudulentas e legítimas, e explore qualquer padrão ou tendência que possa ser útil para a detecção de fraudes."
   ]
  },
  {
   "cell_type": "markdown",
   "metadata": {},
   "source": [
    "### <p style='font-size: 20px; color:#e91c5d; text-align: Center;'><b>Importando biliotécas</b></p><hr style='max-width: 50vw'>"
   ]
  },
  {
   "cell_type": "code",
   "execution_count": 1,
   "metadata": {},
   "outputs": [],
   "source": [
    "# Libs para análise exploratória\n",
    "import numpy as np\n",
    "import pandas as pd\n",
    "import seaborn as sns\n",
    "import matplotlib.pyplot as plt"
   ]
  },
  {
   "cell_type": "markdown",
   "metadata": {},
   "source": [
    "### <p style='font-size: 20px; color:#e91c5d; text-align: Center;'><b>Carregando dados</b></p><hr style='max-width: 50vw'>"
   ]
  },
  {
   "cell_type": "code",
   "execution_count": 2,
   "metadata": {},
   "outputs": [],
   "source": [
    "# Carregando os dados\n",
    "dados = pd.read_csv('../Projeto Final/dataset.csv', delimiter=';')"
   ]
  },
  {
   "cell_type": "markdown",
   "metadata": {},
   "source": [
    "### <p style='font-size: 20px; color:#e91c5d; text-align: Center;'><b>Realizando a análise exploratória básica dos dados</b></p><hr style='max-width: 50vw'>"
   ]
  },
  {
   "cell_type": "code",
   "execution_count": 3,
   "metadata": {},
   "outputs": [
    {
     "data": {
      "text/html": [
       "<div>\n",
       "<style scoped>\n",
       "    .dataframe tbody tr th:only-of-type {\n",
       "        vertical-align: middle;\n",
       "    }\n",
       "\n",
       "    .dataframe tbody tr th {\n",
       "        vertical-align: top;\n",
       "    }\n",
       "\n",
       "    .dataframe thead th {\n",
       "        text-align: right;\n",
       "    }\n",
       "</style>\n",
       "<table border=\"1\" class=\"dataframe\">\n",
       "  <thead>\n",
       "    <tr style=\"text-align: right;\">\n",
       "      <th></th>\n",
       "      <th>Transaction ID</th>\n",
       "      <th>Date</th>\n",
       "      <th>Time</th>\n",
       "      <th>Card Type</th>\n",
       "      <th>Entry Mode</th>\n",
       "      <th>Amount</th>\n",
       "      <th>Transaction Type</th>\n",
       "      <th>Merchant Group</th>\n",
       "      <th>Transaction Country</th>\n",
       "      <th>Shipping Address</th>\n",
       "      <th>Billing Address</th>\n",
       "      <th>Gender</th>\n",
       "      <th>Age</th>\n",
       "      <th>Issuing Bank</th>\n",
       "      <th>Fraudulent</th>\n",
       "    </tr>\n",
       "  </thead>\n",
       "  <tbody>\n",
       "    <tr>\n",
       "      <th>0</th>\n",
       "      <td>1</td>\n",
       "      <td>19/10/2023</td>\n",
       "      <td>05:31</td>\n",
       "      <td>MasterCard</td>\n",
       "      <td>Tap</td>\n",
       "      <td>391.56</td>\n",
       "      <td>POS</td>\n",
       "      <td>Clothing</td>\n",
       "      <td>Italy</td>\n",
       "      <td>61 Redwood St</td>\n",
       "      <td>726 Maple St</td>\n",
       "      <td>Female</td>\n",
       "      <td>55</td>\n",
       "      <td>XYZ Bank</td>\n",
       "      <td>No</td>\n",
       "    </tr>\n",
       "    <tr>\n",
       "      <th>1</th>\n",
       "      <td>2</td>\n",
       "      <td>16/10/2023</td>\n",
       "      <td>12:56</td>\n",
       "      <td>MasterCard</td>\n",
       "      <td>Tap</td>\n",
       "      <td>167.67</td>\n",
       "      <td>Online</td>\n",
       "      <td>Clothing</td>\n",
       "      <td>France</td>\n",
       "      <td>945 Pine St</td>\n",
       "      <td>252 Cedar St</td>\n",
       "      <td>Male</td>\n",
       "      <td>37</td>\n",
       "      <td>DEF Bank</td>\n",
       "      <td>No</td>\n",
       "    </tr>\n",
       "    <tr>\n",
       "      <th>2</th>\n",
       "      <td>3</td>\n",
       "      <td>29/09/2023</td>\n",
       "      <td>07:57</td>\n",
       "      <td>MasterCard</td>\n",
       "      <td>PIN</td>\n",
       "      <td>126.24</td>\n",
       "      <td>Online</td>\n",
       "      <td>Electronics</td>\n",
       "      <td>Spain</td>\n",
       "      <td>773 Oak St</td>\n",
       "      <td>177 Main St</td>\n",
       "      <td>Male</td>\n",
       "      <td>53</td>\n",
       "      <td>ABC Bank</td>\n",
       "      <td>No</td>\n",
       "    </tr>\n",
       "    <tr>\n",
       "      <th>3</th>\n",
       "      <td>4</td>\n",
       "      <td>13/10/2023</td>\n",
       "      <td>00:08</td>\n",
       "      <td>MasterCard</td>\n",
       "      <td>Tap</td>\n",
       "      <td>496.80</td>\n",
       "      <td>Online</td>\n",
       "      <td>Electronics</td>\n",
       "      <td>UK</td>\n",
       "      <td>436 Maple St</td>\n",
       "      <td>758 Main St</td>\n",
       "      <td>Male</td>\n",
       "      <td>21</td>\n",
       "      <td>DEF Bank</td>\n",
       "      <td>No</td>\n",
       "    </tr>\n",
       "    <tr>\n",
       "      <th>4</th>\n",
       "      <td>5</td>\n",
       "      <td>02/10/2023</td>\n",
       "      <td>23:19</td>\n",
       "      <td>MasterCard</td>\n",
       "      <td>Tap</td>\n",
       "      <td>446.88</td>\n",
       "      <td>POS</td>\n",
       "      <td>Grocery</td>\n",
       "      <td>France</td>\n",
       "      <td>887 Pine St</td>\n",
       "      <td>629 Main St</td>\n",
       "      <td>Male</td>\n",
       "      <td>52</td>\n",
       "      <td>XYZ Bank</td>\n",
       "      <td>No</td>\n",
       "    </tr>\n",
       "  </tbody>\n",
       "</table>\n",
       "</div>"
      ],
      "text/plain": [
       "   Transaction ID        Date   Time   Card Type Entry Mode  Amount  \\\n",
       "0               1  19/10/2023  05:31  MasterCard        Tap  391.56   \n",
       "1               2  16/10/2023  12:56  MasterCard        Tap  167.67   \n",
       "2               3  29/09/2023  07:57  MasterCard        PIN  126.24   \n",
       "3               4  13/10/2023  00:08  MasterCard        Tap  496.80   \n",
       "4               5  02/10/2023  23:19  MasterCard        Tap  446.88   \n",
       "\n",
       "  Transaction Type Merchant Group Transaction Country Shipping Address  \\\n",
       "0              POS       Clothing               Italy    61 Redwood St   \n",
       "1           Online       Clothing              France      945 Pine St   \n",
       "2           Online    Electronics               Spain       773 Oak St   \n",
       "3           Online    Electronics                  UK     436 Maple St   \n",
       "4              POS        Grocery              France      887 Pine St   \n",
       "\n",
       "  Billing Address  Gender  Age Issuing Bank Fraudulent  \n",
       "0    726 Maple St  Female   55     XYZ Bank         No  \n",
       "1    252 Cedar St    Male   37     DEF Bank         No  \n",
       "2     177 Main St    Male   53     ABC Bank         No  \n",
       "3     758 Main St    Male   21     DEF Bank         No  \n",
       "4     629 Main St    Male   52     XYZ Bank         No  "
      ]
     },
     "execution_count": 3,
     "metadata": {},
     "output_type": "execute_result"
    }
   ],
   "source": [
    "# Vamos realizar uma análise exploratória básica do conjunto de dados\n",
    "# Verificando a base de dados\n",
    "dados.head()"
   ]
  },
  {
   "cell_type": "code",
   "execution_count": 4,
   "metadata": {},
   "outputs": [
    {
     "name": "stderr",
     "output_type": "stream",
     "text": [
      "C:\\Users\\ersju\\AppData\\Local\\Temp\\ipykernel_36712\\1847164506.py:2: UserWarning: Parsing dates in %d/%m/%Y format when dayfirst=False (the default) was specified. Pass `dayfirst=True` or specify a format to silence this warning.\n",
      "  dados['Mes'] = pd.to_datetime(dados['Date']).dt.strftime('%m - %B')\n"
     ]
    },
    {
     "data": {
      "text/html": [
       "<div>\n",
       "<style scoped>\n",
       "    .dataframe tbody tr th:only-of-type {\n",
       "        vertical-align: middle;\n",
       "    }\n",
       "\n",
       "    .dataframe tbody tr th {\n",
       "        vertical-align: top;\n",
       "    }\n",
       "\n",
       "    .dataframe thead th {\n",
       "        text-align: right;\n",
       "    }\n",
       "</style>\n",
       "<table border=\"1\" class=\"dataframe\">\n",
       "  <thead>\n",
       "    <tr style=\"text-align: right;\">\n",
       "      <th></th>\n",
       "      <th>Transaction ID</th>\n",
       "      <th>Date</th>\n",
       "      <th>Time</th>\n",
       "      <th>Card Type</th>\n",
       "      <th>Entry Mode</th>\n",
       "      <th>Amount</th>\n",
       "      <th>Transaction Type</th>\n",
       "      <th>Merchant Group</th>\n",
       "      <th>Transaction Country</th>\n",
       "      <th>Shipping Address</th>\n",
       "      <th>Billing Address</th>\n",
       "      <th>Gender</th>\n",
       "      <th>Age</th>\n",
       "      <th>Issuing Bank</th>\n",
       "      <th>Fraudulent</th>\n",
       "      <th>Mes</th>\n",
       "    </tr>\n",
       "  </thead>\n",
       "  <tbody>\n",
       "    <tr>\n",
       "      <th>0</th>\n",
       "      <td>1</td>\n",
       "      <td>19/10/2023</td>\n",
       "      <td>05:31</td>\n",
       "      <td>MasterCard</td>\n",
       "      <td>Tap</td>\n",
       "      <td>391.56</td>\n",
       "      <td>POS</td>\n",
       "      <td>Clothing</td>\n",
       "      <td>Italy</td>\n",
       "      <td>61 Redwood St</td>\n",
       "      <td>726 Maple St</td>\n",
       "      <td>Female</td>\n",
       "      <td>55</td>\n",
       "      <td>XYZ Bank</td>\n",
       "      <td>No</td>\n",
       "      <td>10 - October</td>\n",
       "    </tr>\n",
       "    <tr>\n",
       "      <th>1</th>\n",
       "      <td>2</td>\n",
       "      <td>16/10/2023</td>\n",
       "      <td>12:56</td>\n",
       "      <td>MasterCard</td>\n",
       "      <td>Tap</td>\n",
       "      <td>167.67</td>\n",
       "      <td>Online</td>\n",
       "      <td>Clothing</td>\n",
       "      <td>France</td>\n",
       "      <td>945 Pine St</td>\n",
       "      <td>252 Cedar St</td>\n",
       "      <td>Male</td>\n",
       "      <td>37</td>\n",
       "      <td>DEF Bank</td>\n",
       "      <td>No</td>\n",
       "      <td>10 - October</td>\n",
       "    </tr>\n",
       "    <tr>\n",
       "      <th>2</th>\n",
       "      <td>3</td>\n",
       "      <td>29/09/2023</td>\n",
       "      <td>07:57</td>\n",
       "      <td>MasterCard</td>\n",
       "      <td>PIN</td>\n",
       "      <td>126.24</td>\n",
       "      <td>Online</td>\n",
       "      <td>Electronics</td>\n",
       "      <td>Spain</td>\n",
       "      <td>773 Oak St</td>\n",
       "      <td>177 Main St</td>\n",
       "      <td>Male</td>\n",
       "      <td>53</td>\n",
       "      <td>ABC Bank</td>\n",
       "      <td>No</td>\n",
       "      <td>09 - September</td>\n",
       "    </tr>\n",
       "    <tr>\n",
       "      <th>3</th>\n",
       "      <td>4</td>\n",
       "      <td>13/10/2023</td>\n",
       "      <td>00:08</td>\n",
       "      <td>MasterCard</td>\n",
       "      <td>Tap</td>\n",
       "      <td>496.80</td>\n",
       "      <td>Online</td>\n",
       "      <td>Electronics</td>\n",
       "      <td>UK</td>\n",
       "      <td>436 Maple St</td>\n",
       "      <td>758 Main St</td>\n",
       "      <td>Male</td>\n",
       "      <td>21</td>\n",
       "      <td>DEF Bank</td>\n",
       "      <td>No</td>\n",
       "      <td>10 - October</td>\n",
       "    </tr>\n",
       "    <tr>\n",
       "      <th>4</th>\n",
       "      <td>5</td>\n",
       "      <td>02/10/2023</td>\n",
       "      <td>23:19</td>\n",
       "      <td>MasterCard</td>\n",
       "      <td>Tap</td>\n",
       "      <td>446.88</td>\n",
       "      <td>POS</td>\n",
       "      <td>Grocery</td>\n",
       "      <td>France</td>\n",
       "      <td>887 Pine St</td>\n",
       "      <td>629 Main St</td>\n",
       "      <td>Male</td>\n",
       "      <td>52</td>\n",
       "      <td>XYZ Bank</td>\n",
       "      <td>No</td>\n",
       "      <td>10 - October</td>\n",
       "    </tr>\n",
       "  </tbody>\n",
       "</table>\n",
       "</div>"
      ],
      "text/plain": [
       "   Transaction ID        Date   Time   Card Type Entry Mode  Amount  \\\n",
       "0               1  19/10/2023  05:31  MasterCard        Tap  391.56   \n",
       "1               2  16/10/2023  12:56  MasterCard        Tap  167.67   \n",
       "2               3  29/09/2023  07:57  MasterCard        PIN  126.24   \n",
       "3               4  13/10/2023  00:08  MasterCard        Tap  496.80   \n",
       "4               5  02/10/2023  23:19  MasterCard        Tap  446.88   \n",
       "\n",
       "  Transaction Type Merchant Group Transaction Country Shipping Address  \\\n",
       "0              POS       Clothing               Italy    61 Redwood St   \n",
       "1           Online       Clothing              France      945 Pine St   \n",
       "2           Online    Electronics               Spain       773 Oak St   \n",
       "3           Online    Electronics                  UK     436 Maple St   \n",
       "4              POS        Grocery              France      887 Pine St   \n",
       "\n",
       "  Billing Address  Gender  Age Issuing Bank Fraudulent             Mes  \n",
       "0    726 Maple St  Female   55     XYZ Bank         No    10 - October  \n",
       "1    252 Cedar St    Male   37     DEF Bank         No    10 - October  \n",
       "2     177 Main St    Male   53     ABC Bank         No  09 - September  \n",
       "3     758 Main St    Male   21     DEF Bank         No    10 - October  \n",
       "4     629 Main St    Male   52     XYZ Bank         No    10 - October  "
      ]
     },
     "execution_count": 4,
     "metadata": {},
     "output_type": "execute_result"
    }
   ],
   "source": [
    "# Criando uma coluna com as informações de número e nome do mês\n",
    "dados['Mes'] = pd.to_datetime(dados['Date']).dt.strftime('%m - %B')\n",
    "\n",
    "dados.head()"
   ]
  },
  {
   "cell_type": "code",
   "execution_count": 5,
   "metadata": {},
   "outputs": [
    {
     "name": "stdout",
     "output_type": "stream",
     "text": [
      "A base de dados possui:\n",
      "1000 Linhas\n",
      "16 Colunas\n"
     ]
    }
   ],
   "source": [
    "# Verificando a quantidade de linhas e colunas da base de dados\n",
    "colunas = dados.shape[1]\n",
    "linhas = dados.shape[0]\n",
    "\n",
    "print(f'A base de dados possui:\\n{linhas} Linhas\\n{colunas} Colunas')"
   ]
  },
  {
   "cell_type": "code",
   "execution_count": 6,
   "metadata": {},
   "outputs": [
    {
     "data": {
      "text/plain": [
       "Index(['Transaction ID', 'Date', 'Time', 'Card Type', 'Entry Mode', 'Amount',\n",
       "       'Transaction Type', 'Merchant Group', 'Transaction Country',\n",
       "       'Shipping Address', 'Billing Address', 'Gender', 'Age', 'Issuing Bank',\n",
       "       'Fraudulent', 'Mes'],\n",
       "      dtype='object')"
      ]
     },
     "execution_count": 6,
     "metadata": {},
     "output_type": "execute_result"
    }
   ],
   "source": [
    "# Verificando as colunas disponíveis na base de dados \n",
    "dados.columns"
   ]
  },
  {
   "cell_type": "code",
   "execution_count": 7,
   "metadata": {},
   "outputs": [
    {
     "name": "stdout",
     "output_type": "stream",
     "text": [
      "<class 'pandas.core.frame.DataFrame'>\n",
      "RangeIndex: 1000 entries, 0 to 999\n",
      "Data columns (total 16 columns):\n",
      " #   Column               Non-Null Count  Dtype  \n",
      "---  ------               --------------  -----  \n",
      " 0   Transaction ID       1000 non-null   int64  \n",
      " 1   Date                 1000 non-null   object \n",
      " 2   Time                 1000 non-null   object \n",
      " 3   Card Type            1000 non-null   object \n",
      " 4   Entry Mode           1000 non-null   object \n",
      " 5   Amount               1000 non-null   float64\n",
      " 6   Transaction Type     1000 non-null   object \n",
      " 7   Merchant Group       1000 non-null   object \n",
      " 8   Transaction Country  1000 non-null   object \n",
      " 9   Shipping Address     1000 non-null   object \n",
      " 10  Billing Address      1000 non-null   object \n",
      " 11  Gender               1000 non-null   object \n",
      " 12  Age                  1000 non-null   int64  \n",
      " 13  Issuing Bank         1000 non-null   object \n",
      " 14  Fraudulent           1000 non-null   object \n",
      " 15  Mes                  1000 non-null   object \n",
      "dtypes: float64(1), int64(2), object(13)\n",
      "memory usage: 125.1+ KB\n"
     ]
    }
   ],
   "source": [
    "# Obtendo informações básicas (metadados) da base de dados\n",
    "infos = dados.info()\n",
    "infos"
   ]
  },
  {
   "cell_type": "markdown",
   "metadata": {},
   "source": [
    "### <p style='font-size: 20px; color:#e91c5d; text-align: Center;'><b>Resumo estatístico das variáveis numéricas</b></p><hr style='max-width: 50vw'>"
   ]
  },
  {
   "cell_type": "code",
   "execution_count": 8,
   "metadata": {},
   "outputs": [
    {
     "data": {
      "text/html": [
       "<div>\n",
       "<style scoped>\n",
       "    .dataframe tbody tr th:only-of-type {\n",
       "        vertical-align: middle;\n",
       "    }\n",
       "\n",
       "    .dataframe tbody tr th {\n",
       "        vertical-align: top;\n",
       "    }\n",
       "\n",
       "    .dataframe thead th {\n",
       "        text-align: right;\n",
       "    }\n",
       "</style>\n",
       "<table border=\"1\" class=\"dataframe\">\n",
       "  <thead>\n",
       "    <tr style=\"text-align: right;\">\n",
       "      <th></th>\n",
       "      <th>Transaction ID</th>\n",
       "      <th>Amount</th>\n",
       "      <th>Age</th>\n",
       "    </tr>\n",
       "  </thead>\n",
       "  <tbody>\n",
       "    <tr>\n",
       "      <th>count</th>\n",
       "      <td>1000.00</td>\n",
       "      <td>1000.00</td>\n",
       "      <td>1000.00</td>\n",
       "    </tr>\n",
       "    <tr>\n",
       "      <th>mean</th>\n",
       "      <td>500.50</td>\n",
       "      <td>266.14</td>\n",
       "      <td>44.66</td>\n",
       "    </tr>\n",
       "    <tr>\n",
       "      <th>std</th>\n",
       "      <td>288.82</td>\n",
       "      <td>138.78</td>\n",
       "      <td>15.18</td>\n",
       "    </tr>\n",
       "    <tr>\n",
       "      <th>min</th>\n",
       "      <td>1.00</td>\n",
       "      <td>20.18</td>\n",
       "      <td>18.00</td>\n",
       "    </tr>\n",
       "    <tr>\n",
       "      <th>25%</th>\n",
       "      <td>250.75</td>\n",
       "      <td>147.90</td>\n",
       "      <td>31.00</td>\n",
       "    </tr>\n",
       "    <tr>\n",
       "      <th>50%</th>\n",
       "      <td>500.50</td>\n",
       "      <td>268.36</td>\n",
       "      <td>45.50</td>\n",
       "    </tr>\n",
       "    <tr>\n",
       "      <th>75%</th>\n",
       "      <td>750.25</td>\n",
       "      <td>380.53</td>\n",
       "      <td>57.00</td>\n",
       "    </tr>\n",
       "    <tr>\n",
       "      <th>max</th>\n",
       "      <td>1000.00</td>\n",
       "      <td>499.69</td>\n",
       "      <td>70.00</td>\n",
       "    </tr>\n",
       "  </tbody>\n",
       "</table>\n",
       "</div>"
      ],
      "text/plain": [
       "       Transaction ID   Amount      Age\n",
       "count         1000.00  1000.00  1000.00\n",
       "mean           500.50   266.14    44.66\n",
       "std            288.82   138.78    15.18\n",
       "min              1.00    20.18    18.00\n",
       "25%            250.75   147.90    31.00\n",
       "50%            500.50   268.36    45.50\n",
       "75%            750.25   380.53    57.00\n",
       "max           1000.00   499.69    70.00"
      ]
     },
     "execution_count": 8,
     "metadata": {},
     "output_type": "execute_result"
    }
   ],
   "source": [
    "# Resumo estatístico das variáveis numéricas\n",
    "resumo_var_numericas = dados.describe().round(2)\n",
    "resumo_var_numericas"
   ]
  },
  {
   "cell_type": "markdown",
   "metadata": {},
   "source": [
    "<p style='font-size: 18px; line-height: 1; margin: 0px 0px; text-align: center; text-indent: 0px; max-width: 75vw; margin:auto;'>\n",
    "<b>Variáveis Numéricas:</b><br><br><br><b>Transcation ID:</b> Varia de 1 a 1000, o que sugere que o conjunto de dados contém 1000 transações.<br><br><br><b>Amount (Valor da Transação):</b><br><br>• Média: $266,14<br>• Desvio Padrão: $138,78<br>• Mínimo: $20,18<br>• Máximo: $499,69<br><br><br><b>Age (Idade):</b> Temos uma variação entre 18 e 70 anos, com a média de idade de 44 anos e a mediana de 45. "
   ]
  },
  {
   "cell_type": "markdown",
   "metadata": {},
   "source": [
    "### <p style='font-size: 20px; color:#e91c5d; text-align: Center;'><b>Resumo das variáveis categóricas</b></p><hr style='max-width: 50vw'>"
   ]
  },
  {
   "cell_type": "code",
   "execution_count": 9,
   "metadata": {},
   "outputs": [
    {
     "data": {
      "text/plain": [
       "Date                    36\n",
       "Time                   716\n",
       "Card Type                2\n",
       "Entry Mode               2\n",
       "Transaction Type         3\n",
       "Merchant Group           6\n",
       "Transaction Country      7\n",
       "Shipping Address       938\n",
       "Billing Address        939\n",
       "Gender                   2\n",
       "Issuing Bank             3\n",
       "Fraudulent               2\n",
       "Mes                      2\n",
       "dtype: int64"
      ]
     },
     "execution_count": 9,
     "metadata": {},
     "output_type": "execute_result"
    }
   ],
   "source": [
    "# Contagem de valores únicos para variáveis categóricas\n",
    "qtd_unica = dados.select_dtypes(include=['object', 'category']).nunique()\n",
    "qtd_unica"
   ]
  },
  {
   "cell_type": "markdown",
   "metadata": {},
   "source": [
    "<p style='font-size: 18px; line-height: 1; margin: 0px 0px; text-align: center; text-indent: 0px; max-width: 75vw; margin:auto;'>\n",
    "<b>Variáveis Categóricas</b><br><br>\n",
    "\n",
    "<p style='text-align: center;'> • Card Type (Tipo de Cartão): 2 tipos diferentes.</p>\n",
    "<p style='text-align: center;'> • Entry Mode (Modo de Entrada): 2 modos diferentes.</p>\n",
    "<p style='text-align: center;'> • Transaction Type (Tipo de Transação): 3 tipos diferentes.</p>\n",
    "<p style='text-align: center;'> • Merchant Group (Grupo Comercial): 6 grupos diferentes.</p>\n",
    "<p style='text-align: center;'> • Transaction Country (País da Transação): 7 países diferentes.</p>\n",
    "<p style='text-align: center;'> • Shipping Address (Endereço de Envio): 938 endereços únicos.</p>\n",
    "<p style='text-align: center;'> • Billing Address (Endereço de Cobrança): 939 endereços únicos.</p>\n",
    "<p style='text-align: center;'> • Gender (Gênero): 2 gêneros diferentes.</p>\n",
    "<p style='text-align: center;'> • Issuing Bank (Banco Emissor): 3 bancos diferentes.</p>\n",
    "<p style='text-align: center;'> • Fraudulent (Fraudulento): 2 categorias - 'Sim' e 'Não'.</p>"
   ]
  },
  {
   "cell_type": "code",
   "execution_count": 10,
   "metadata": {},
   "outputs": [
    {
     "name": "stdout",
     "output_type": "stream",
     "text": [
      "Existem 958 transações sem fraudes\n",
      "Existem 42 transações com fraudes\n"
     ]
    }
   ],
   "source": [
    "# Verificando o equilíbrio das classes na coluna 'Fraudulent'\n",
    "qtd_fraude = dados['Fraudulent'].value_counts()\n",
    "\n",
    "print(f'Existem {qtd_fraude.iloc[0]} transações sem fraudes\\nExistem {qtd_fraude.iloc[1]} transações com fraudes')"
   ]
  },
  {
   "cell_type": "code",
   "execution_count": 11,
   "metadata": {},
   "outputs": [
    {
     "name": "stdout",
     "output_type": "stream",
     "text": [
      "95.8% das transações não possuem fraudes\n",
      "4.2% das transações possuem fraudes\n"
     ]
    }
   ],
   "source": [
    "# Verificando a proporção de transações fraudulentas e legítimas\n",
    "proporcao_fraudes = dados['Fraudulent'].value_counts(normalize=True)\n",
    "print(f'{proporcao_fraudes.iloc[0]*100}% das transações não possuem fraudes\\n{proporcao_fraudes.iloc[1]*100}% das transações possuem fraudes')"
   ]
  },
  {
   "cell_type": "markdown",
   "metadata": {},
   "source": [
    "<p style='font-size: 18px; line-height: 1; margin: 0px 0px; text-align: center; text-indent: 0px; max-width: 75vw; margin:auto;'>\n",
    "<b>Proporção de Transações Fraudulentas e Legítimas: </b><br><br><b>Transações não fraudulentas:</b> 95.8%.<br><b>Transações Fraudulentas:</b> 4.2%. "
   ]
  },
  {
   "cell_type": "markdown",
   "metadata": {},
   "source": [
    "<hr style='max-width: 50vw'>\n",
    "\n",
    "### <p style='font-size: 20px; color:#e91c5d; text-align: Center;'><b>Observações iniciais</b></p><hr style='max-width: 50vw'>\n",
    "<p style='font-size: 18px; line-height: 1; margin: 0px 0px; text-align: center; text-indent: 0px; max-width: 50vw; margin:auto;'>\n",
    "<br><br>• A base de dados possui uma variedade de recursos, tanto numéricos quanto categóricos, que podem ser úteis na detecção de fraudes. <br><br>• A coluna Fraudulent indica um desequilíbrio de classes, com uma proporção significativamente maior de transações legítimas em comparação com as fraudulentas. <br><br><b>Gerando Gráficos:</b><br><br> Agora Vamos visualizar alguns dados para endenter melhor as distribuições e possíveis padrões. <br>"
   ]
  },
  {
   "cell_type": "code",
   "execution_count": 12,
   "metadata": {},
   "outputs": [
    {
     "data": {
      "image/png": "[encoded data removed]",
      "text/plain": [
       "<Figure size 1000x600 with 1 Axes>"
      ]
     },
     "metadata": {},
     "output_type": "display_data"
    }
   ],
   "source": [
    "# Configurações para visualização\n",
    "sns.set(style=\"whitegrid\")\n",
    "\n",
    "# Visualizando a distribuição da idade\n",
    "plt.figure(figsize=(10, 6))\n",
    "sns.histplot(dados['Age'], bins=30, kde=True)\n",
    "plt.title('Distribuição da Idade')\n",
    "plt.xlabel('Idade')\n",
    "plt.ylabel('Frequência')\n",
    "plt.show()"
   ]
  },
  {
   "cell_type": "markdown",
   "metadata": {},
   "source": [
    "<p style='font-size: 18px; line-height: 1; margin: 0px 0px; text-align: center; text-indent: 0px; max-width: 50vw; margin:auto;'>\n",
    "<b>Distribuição da Idade: </b><br><br>A idade dos clientes varia bastante, com uma distribuição relativamente uniforme entre 18 e 70 anos. A maioria dos clientes está na faixa dos 30 a 60 anos."
   ]
  },
  {
   "cell_type": "code",
   "execution_count": 13,
   "metadata": {},
   "outputs": [
    {
     "data": {
      "image/png": "[encoded data removed]",
      "text/plain": [
       "<Figure size 1000x600 with 1 Axes>"
      ]
     },
     "metadata": {},
     "output_type": "display_data"
    }
   ],
   "source": [
    "# Visualizando a distribuição do valor da transação\n",
    "plt.figure(figsize=(10, 6))\n",
    "sns.histplot(dados['Amount'], bins=30, kde=True, color='green')\n",
    "plt.title('Distribuição do Valor da Transação')\n",
    "plt.xlabel('Valor da Transação')\n",
    "plt.ylabel('Frequência')\n",
    "plt.show()"
   ]
  },
  {
   "cell_type": "markdown",
   "metadata": {},
   "source": [
    "<p style='font-size: 18px; line-height: 1; margin: 0px 0px; text-align: center; text-indent: 0px; max-width: 50vw; margin:auto;'>\n",
    "<b>Distribuição do Valor da Transação: </b><br><br>O valor das transações apresenta uma distribuição ampla. A maioria das transações parece estar abaixo de 400, com uma distribuição relativamente uniforme."
   ]
  },
  {
   "cell_type": "code",
   "execution_count": 14,
   "metadata": {},
   "outputs": [
    {
     "data": {
      "image/png": "[encoded data removed]",
      "text/plain": [
       "<Figure size 1000x600 with 1 Axes>"
      ]
     },
     "metadata": {},
     "output_type": "display_data"
    }
   ],
   "source": [
    "# Boxplot para verificar a distribuição do valor da transação entre transações fraudulentas e legítimas\n",
    "plt.figure(figsize=(10, 6))\n",
    "sns.boxplot(x='Fraudulent', y='Amount', data=dados)\n",
    "plt.title('Boxplot do Valor da Transação por Tipo de Transação')\n",
    "plt.xlabel('Fraudulenta')\n",
    "plt.ylabel('Valor da Transação')\n",
    "plt.show()"
   ]
  },
  {
   "cell_type": "markdown",
   "metadata": {},
   "source": [
    "<p style='font-size: 18px; line-height: 1; margin: 0px 0px; text-align: center; text-indent: 0px; max-width: 50vw; margin:auto;'>\n",
    "<b>Valor da Transação por Tipo de Fraude:</b><br><br>• O boxplot mostra a distribuição do valor das transações para casos fraudulentos e não fraudulentos.<br><br>• Parece haver uma sobreposição significativa na distribuição de valores entre transações fraudulentas e legítimas. No entanto, transações fraudulentas tendem a ter uma ligeira concentração em valores mais baixos."
   ]
  },
  {
   "cell_type": "markdown",
   "metadata": {},
   "source": [
    "<hr style='max-width: 50vw'>\n",
    "\n",
    "## <p style='font-size: 20px; color:#e91c5d; text-align: Center;'><b>Conclusões da Análise Exploratória de Dados (EDA):</b></p><hr style='max-width: 50vw'>"
   ]
  },
  {
   "cell_type": "markdown",
   "metadata": {},
   "source": [
    "<p style='font-size: 18px; line-height: 1; margin: 0px 0px; text-align: center; text-indent: 0px; max-width: 40vw; margin:auto;'>\n",
    "• A análise exploratória revela um conjunto de dados com uma variedade de características numéricas e categóricas.<br><br>• A idade dos clientes e os valores das transações mostram distribuições variadas, o que pode ser útil para identificar padrões de transações fraudulentas.<br><br>• Existe um desequilíbrio significativo entre transações fraudulentas e legítimas, o que é um fator crítico a considerar ao treinar modelos de detecção de fraudes.<br><br><hr style='max-width: 50vw'><br><br><br>"
   ]
  },
  {
   "cell_type": "markdown",
   "metadata": {},
   "source": [
    "# <p style='font-size: 28px; color:#e91c5d; text-align: Center;'><b>2) Pré-processamento de Dados:</b></p>\n",
    "<hr style='border: 1px solid #e91c5d; 0px; max-width: 90vw' color=e91c5d><br>\n",
    "<p style='font-size: 18px; line-height: 1; margin: 0px 0px; text-align: center; text-indent: 0px; max-width: 75vw; margin:auto;'>\n",
    "<b>Desafio: </b>Realize pré-processamento nos dados, codificação de variáveis categóricas, normalização ou padronização, se necessário."
   ]
  },
  {
   "cell_type": "markdown",
   "metadata": {},
   "source": [
    "### <p style='font-size: 20px; color:#e91c5d; text-align: Center;'><b>Importando biliotécas</b></p><hr style='max-width: 50vw'>"
   ]
  },
  {
   "cell_type": "code",
   "execution_count": 15,
   "metadata": {},
   "outputs": [],
   "source": [
    "# Importando as bibliotecas necessárias\n",
    "from sklearn.metrics import classification_report, confusion_matrix, roc_auc_score\n",
    "from sklearn.preprocessing import StandardScaler, OneHotEncoder\n",
    "from sklearn.utils.class_weight import compute_class_weight\n",
    "from sklearn.model_selection import train_test_split\n",
    "from sklearn.compose import ColumnTransformer\n",
    "from sklearn.pipeline import Pipeline\n"
   ]
  },
  {
   "cell_type": "markdown",
   "metadata": {},
   "source": [
    "### <p style='font-size: 20px; color:#e91c5d; text-align: Center;'><b>Variáveis independentes e dependentes</b></p><hr style='max-width: 50vw'>"
   ]
  },
  {
   "cell_type": "code",
   "execution_count": 16,
   "metadata": {},
   "outputs": [],
   "source": [
    "# Separação das variáveis independentes e dependentes\n",
    "X = dados.drop('Fraudulent', axis=1)\n",
    "y = dados['Fraudulent'].map({'Yes': 1, 'No': 0})  # Convertendo a variável alvo para formato numérico"
   ]
  },
  {
   "cell_type": "markdown",
   "metadata": {},
   "source": [
    "<p style='font-size: 18px; line-height: 1; margin: 0px 0px; text-align: center; text-indent: 0px; max-width: 75vw; margin:auto;'>\n",
    "<b>Separação das Variáveis Independentes e Dependentes:</b><br><br><br><b>X: </b>As variáveis independentes (X) são todas as colunas, exceto 'Fraudulent'.<br><br><b>y:</b> A variável dependente (y) é a coluna 'Fraudulent', que foi convertida para um formato numérico (1 para 'Yes' e 0 para 'No')."
   ]
  },
  {
   "cell_type": "code",
   "execution_count": 17,
   "metadata": {},
   "outputs": [],
   "source": [
    "# Divisão dos dados em conjuntos de treinamento e teste\n",
    "X_train, X_test, y_train, y_test = train_test_split(X, y, test_size=0.2, random_state=42)"
   ]
  },
  {
   "cell_type": "markdown",
   "metadata": {},
   "source": [
    "<p style='font-size: 18px; line-height: 1; margin: 0px 0px; text-align: center; text-indent: 0px; max-width: 75vw; margin:auto;'>\n",
    "<b>Divisão dos Dados em Conjuntos de Treinamento e Teste:</b><br><br><br><b>•</b> Os dados foram divididos em um conjunto de treinamento (80%) e um conjunto de teste (20%), com um estado aleatório fixo para reprodutibilidade."
   ]
  },
  {
   "cell_type": "code",
   "execution_count": 18,
   "metadata": {},
   "outputs": [],
   "source": [
    "# Seleção de colunas numéricas e categóricas\n",
    "colunas_numericas = X_train.select_dtypes(include=['int64', 'float64']).columns\n",
    "colunas_categoricas = X_train.select_dtypes(include=['object']).columns"
   ]
  },
  {
   "cell_type": "markdown",
   "metadata": {},
   "source": [
    "<p style='font-size: 18px; line-height: 1; margin: 0px 0px; text-align: center; text-indent: 0px; max-width: 75vw; margin:auto;'>\n",
    "<b>Seleção de Colunas Numéricas e Categóricas:</b><br><br><br><b>•</b> Foram identificadas colunas numéricas e categóricas separadamente para tratamento específico."
   ]
  },
  {
   "cell_type": "markdown",
   "metadata": {},
   "source": [
    "### <hr style='max-width: 50vw'><p style='font-size: 20px; color:#e91c5d; text-align: Center;'><b>Criando um transformador de coluna para processar as colunas numéricas e categóricas</b></p><hr style='max-width: 50vw'>"
   ]
  },
  {
   "cell_type": "code",
   "execution_count": 19,
   "metadata": {},
   "outputs": [],
   "source": [
    "# Normalização para colunas numéricas\n",
    "transformador_numerico = Pipeline(steps=[\n",
    "    ('scaler', StandardScaler())\n",
    "])\n",
    "\n",
    "# Codificação one-hot para colunas categóricas\n",
    "transformador_categorico = Pipeline(steps=[\n",
    "    ('onehot', OneHotEncoder(handle_unknown='ignore'))\n",
    "])\n",
    "\n",
    "# Combinando transformadores em um único transformador de coluna\n",
    "preprocessor = ColumnTransformer(\n",
    "    transformers=[\n",
    "        ('num', transformador_numerico, colunas_numericas),\n",
    "        ('cat', transformador_categorico, colunas_categoricas)\n",
    "    ])"
   ]
  },
  {
   "cell_type": "markdown",
   "metadata": {},
   "source": [
    "<p style='font-size: 18px; line-height: 1; margin: 0px 0px; text-align: center; text-indent: 0px; max-width: 75vw; margin:auto;'>\n",
    "<b>Criação de um Transformador de Coluna:</b><br><br><br><b>•</b> As colunas numéricas passam por uma normalização usando StandardScaler para garantir que todas as características numéricas contribuam igualmente para o modelo.<br><br><b>•</b> As colunas categóricas são transformadas usando a codificação one-hot através do <b>'OneHotEncoder'</b>, permitindo que o modelo processe informações categóricas."
   ]
  },
  {
   "cell_type": "code",
   "execution_count": 20,
   "metadata": {},
   "outputs": [],
   "source": [
    "# 5. Aplicando o pré-processamento aos dados de treinamento e teste\n",
    "X_train_processed = preprocessor.fit_transform(X_train)\n",
    "X_test_processed = preprocessor.transform(X_test)"
   ]
  },
  {
   "cell_type": "markdown",
   "metadata": {},
   "source": [
    "<p style='font-size: 18px; line-height: 1; margin: 0px 0px; text-align: center; text-indent: 0px; max-width: 75vw; margin:auto;'>\n",
    "<b>Aplicação do Pré-processamento aos Dados de Treinamento e Teste:</b><br><br><br><b>•</b> O transformador de coluna foi aplicado aos conjuntos de dados de treinamento e teste."
   ]
  },
  {
   "cell_type": "code",
   "execution_count": 21,
   "metadata": {},
   "outputs": [
    {
     "data": {
      "text/plain": [
       "((800, 2208), (200, 2208))"
      ]
     },
     "execution_count": 21,
     "metadata": {},
     "output_type": "execute_result"
    }
   ],
   "source": [
    "# Exibindo as dimensões dos conjuntos processados\n",
    "X_train_processed.shape, X_test_processed.shape"
   ]
  },
  {
   "cell_type": "markdown",
   "metadata": {},
   "source": [
    "<p style='text-align: center;'><b>•</b> Após o pré-processamento, os conjuntos de dados de treinamento e teste têm 800 e 200 registros, respectivamente, cada um com 2206 características (após a codificação one-hot).</p><br><hr style='max-width: 50vw'><br><br>"
   ]
  },
  {
   "cell_type": "markdown",
   "metadata": {},
   "source": [
    "# <p style='font-size: 28px; color:#e91c5d; text-align: Center;'><b>3) Modelo de Deep Learning:</b></p>\n",
    "<hr style='border: 1px solid #e91c5d; 0px; max-width: 90vw' color=e91c5d><br>\n",
    "<p style='font-size: 18px; line-height: 1; margin: 0px 0px; text-align: center; text-indent: 0px; max-width: 75vw; margin:auto;'>\n",
    "<b>Desafio: </b>Escolha uma arquitetura de rede neural profunda (como CNN, LSTM, ou modelos de Transformer) para treinar um modelo de detecção de fraudes. Divida os dados em conjuntos de treinamento, validação e teste. Treine o modelo usando o conjunto de treinamento e ajuste seus hiperparâmetros usando o conjunto de validação."
   ]
  },
  {
   "cell_type": "markdown",
   "metadata": {},
   "source": [
    "### <p style='font-size: 20px; color:#e91c5d; text-align: Center;'><b>Importando biliotécas</b></p><hr style='max-width: 50vw'>"
   ]
  },
  {
   "cell_type": "code",
   "execution_count": 22,
   "metadata": {},
   "outputs": [],
   "source": [
    "from tensorflow.keras.models import Sequential, load_model, model_from_json\n",
    "from tensorflow.keras.layers import Dense, Conv1D, Flatten, Dropout\n",
    "from tensorflow.keras.models import Sequential\n",
    "from tensorflow.keras.optimizers import Adam"
   ]
  },
  {
   "cell_type": "markdown",
   "metadata": {},
   "source": [
    "### <p style='font-size: 20px; color:#e91c5d; text-align: Center;'><b>Construção do Modelo de Deep Learning com CNN</b></p><hr style='max-width: 50vw'>"
   ]
  },
  {
   "cell_type": "markdown",
   "metadata": {},
   "source": [
    "<p style='font-size: 18px; line-height: 1; margin: 0px 0px; text-align: center; text-indent: 0px; max-width: 75vw; margin:auto;'>\n",
    "<b>Convertendo e Redimensionando os Dados:</b><br><br><br><b>•</b> Os dados de entrada devem ser redimensionados para o formato necessário para uma CNN. Como os dados são unidimensionais, adicione uma dimensão extra."
   ]
  },
  {
   "cell_type": "code",
   "execution_count": 23,
   "metadata": {},
   "outputs": [],
   "source": [
    "# Convertendo as matrizes esparsas em arrays densos\n",
    "X_train_dense = X_train_processed.toarray()\n",
    "X_test_dense = X_test_processed.toarray()"
   ]
  },
  {
   "cell_type": "code",
   "execution_count": 24,
   "metadata": {},
   "outputs": [],
   "source": [
    "# Redimensionamento dos dados para o formato necessário para uma CNN\n",
    "X_train_reshaped = X_train_dense.reshape(X_train_dense.shape[0], X_train_dense.shape[1], 1)\n",
    "X_test_reshaped = X_test_dense.reshape(X_test_dense.shape[0], X_test_dense.shape[1], 1)"
   ]
  },
  {
   "cell_type": "markdown",
   "metadata": {},
   "source": [
    "<p style='font-size: 18px; line-height: 1; margin: 0px 0px; text-align: center; text-indent: 0px; max-width: 75vw; margin:auto;'>\n",
    "<b>Divisão em Conjuntos de Treinamento e Validação:</b><br><br><br><b>•</b> Dividindo o conjunto de treinamento em subconjuntos de treinamento e validação."
   ]
  },
  {
   "cell_type": "code",
   "execution_count": 25,
   "metadata": {},
   "outputs": [],
   "source": [
    "X_train_final, X_val, y_train_final, y_val = train_test_split(X_train_reshaped, y_train, test_size=0.2, random_state=42)"
   ]
  },
  {
   "cell_type": "markdown",
   "metadata": {},
   "source": [
    "<p style='font-size: 18px; line-height: 1; margin: 0px 0px; text-align: center; text-indent: 0px; max-width: 75vw; margin:auto;'>\n",
    "<b>Construção do Modelo:</b><br><br><br><b>•</b> Construindo uma CNN sequencial."
   ]
  },
  {
   "cell_type": "code",
   "execution_count": 26,
   "metadata": {},
   "outputs": [],
   "source": [
    "model = Sequential()\n",
    "model.add(Conv1D(filters=64, kernel_size=3, activation='relu', input_shape=(X_train_reshaped.shape[1], 1)))\n",
    "model.add(Dropout(0.5))\n",
    "model.add(Flatten())\n",
    "model.add(Dense(50, activation='relu'))\n",
    "model.add(Dense(1, activation='sigmoid'))  # Sigmoid para classificação binária"
   ]
  },
  {
   "cell_type": "markdown",
   "metadata": {},
   "source": [
    "<p style='font-size: 18px; line-height: 1; margin: 0px 0px; text-align: center; text-indent: 0px; max-width: 75vw; margin:auto;'>\n",
    "<b>Compilação do Modelo:</b><br><br><br><b>•</b> Compilando o modelo com uma função de perda apropriada e um otimizador."
   ]
  },
  {
   "cell_type": "code",
   "execution_count": 27,
   "metadata": {},
   "outputs": [],
   "source": [
    "model.compile(optimizer=Adam(learning_rate=0.0001), loss='binary_crossentropy', metrics=['accuracy'])"
   ]
  },
  {
   "cell_type": "markdown",
   "metadata": {},
   "source": [
    "<p style='font-size: 18px; line-height: 1; margin: 0px 0px; text-align: center; text-indent: 0px; max-width: 75vw; margin:auto;'>\n",
    "<b>Treinamento do Modelo:</b><br><br><br><b>•</b> Treinando o modelo usando o conjunto de treinamento e ajuste os hiperparâmetros usando o conjunto de validação."
   ]
  },
  {
   "cell_type": "code",
   "execution_count": 28,
   "metadata": {},
   "outputs": [
    {
     "name": "stdout",
     "output_type": "stream",
     "text": [
      "Epoch 1/5\n",
      "20/20 [==============================] - 2s 77ms/step - loss: 0.5345 - accuracy: 0.9203 - val_loss: 0.2840 - val_accuracy: 0.9688\n",
      "Epoch 2/5\n",
      "20/20 [==============================] - 1s 71ms/step - loss: 0.2040 - accuracy: 0.9547 - val_loss: 0.1403 - val_accuracy: 0.9688\n",
      "Epoch 3/5\n",
      "20/20 [==============================] - 1s 71ms/step - loss: 0.1882 - accuracy: 0.9547 - val_loss: 0.1399 - val_accuracy: 0.9688\n",
      "Epoch 4/5\n",
      "20/20 [==============================] - 1s 70ms/step - loss: 0.1796 - accuracy: 0.9547 - val_loss: 0.1445 - val_accuracy: 0.9688\n",
      "Epoch 5/5\n",
      "20/20 [==============================] - 1s 71ms/step - loss: 0.1791 - accuracy: 0.9547 - val_loss: 0.1413 - val_accuracy: 0.9688\n"
     ]
    }
   ],
   "source": [
    "history = model.fit(X_train_final, y_train_final, epochs=5, batch_size=32, validation_data=(X_val, y_val), verbose=1)"
   ]
  },
  {
   "cell_type": "markdown",
   "metadata": {},
   "source": [
    "<p style='text-align: center;'><b>•</b> Agora vamos avaliar o desempenho do nosso modelo.</p><br><hr style='max-width: 50vw'><br><br>"
   ]
  },
  {
   "cell_type": "markdown",
   "metadata": {},
   "source": [
    "# <p style='font-size: 28px; color:#e91c5d; text-align: Center;'><b>4) Avaliação de Desempenho:</b></p>\n",
    "<hr style='border: 1px solid #e91c5d; 0px; max-width: 90vw' color=e91c5d><br>\n",
    "<p style='font-size: 18px; line-height: 1; margin: 0px 0px; text-align: center; text-indent: 0px; max-width: 75vw; margin:auto;'>\n",
    "<b>Desafio: </b>Avalie o desempenho do modelo usando métricas apropriadas, como precisão, recall, F1-score, área sob a curva ROC (AUC-ROC) e matriz de confusão. Certifique-se de lidar adequadamente com o desequilíbrio de classes, se houver."
   ]
  },
  {
   "cell_type": "markdown",
   "metadata": {},
   "source": [
    "<p style='font-size: 18px; line-height: 1; margin: 0px 0px; text-align: center; text-indent: 0px; max-width: 75vw; margin:auto;'>\n",
    "<b>Avaliar o Desempenho no Conjunto de Validação:</b><br><br><br><b>•</b> Após treinar o modelo, vamos utilizar o conjunto de validação para avaliar seu desempenho. Isso geralmente é feito usando métricas como precisão, recall, F1-score e AUC-ROC.<br><br><b>•</b> No TensorFlow/Keras, vamos fazer isso usando o método evaluate do modelo."
   ]
  },
  {
   "cell_type": "code",
   "execution_count": 29,
   "metadata": {},
   "outputs": [
    {
     "name": "stdout",
     "output_type": "stream",
     "text": [
      "5/5 [==============================] - 0s 9ms/step - loss: 0.1413 - accuracy: 0.9688\n",
      "Loss: 0.1413230150938034, Accuracy: 0.96875\n"
     ]
    }
   ],
   "source": [
    "loss, accuracy = model.evaluate(X_val, y_val)\n",
    "print(f'Loss: {loss}, Accuracy: {accuracy}')"
   ]
  },
  {
   "cell_type": "markdown",
   "metadata": {},
   "source": [
    "<p style='font-size: 18px; line-height: 1; margin: 0px 0px; text-align: center; text-indent: 0px; max-width: 75vw; margin:auto;'>\n",
    "<b>Primeiras considerações:</b><br><br><br><b>LOSS:</b> Temos um Loss de 1.77% com o modelo aplicado.<br><br><b>ACCURACY:</b> Temos uma acurácia de 96,87% com o modelo aplicado.\n",
    "<br><br><hr style='max-width: 50vw'>"
   ]
  },
  {
   "cell_type": "markdown",
   "metadata": {},
   "source": [
    "<p style='font-size: 18px; line-height: 1; margin: 0px 0px; text-align: center; text-indent: 0px; max-width: 75vw; margin:auto;'>\n",
    "<b>Visualizando o histórico do treinamento:</b><br><br><br><b>•</b> Vamos visualizar o histórico de treinamento do modelo para entender o comportamento ao longo dos intervalos (Epoch).<br>Isso pode ser feito plotando a acurácia e a perda do treinamento e da validação ao longo das épocas."
   ]
  },
  {
   "cell_type": "code",
   "execution_count": 30,
   "metadata": {},
   "outputs": [
    {
     "data": {
      "image/png": "[encoded data removed]",
      "text/plain": [
       "<Figure size 640x480 with 1 Axes>"
      ]
     },
     "metadata": {},
     "output_type": "display_data"
    }
   ],
   "source": [
    "# Criando o histórico visual do nosso LOSS\n",
    "plt.plot(history.history['loss'])\n",
    "plt.plot(history.history['val_loss'])\n",
    "plt.title('Model Loss')\n",
    "plt.ylabel('Loss')\n",
    "plt.xlabel('Epoch')\n",
    "plt.legend(['Train', 'Validation'], loc='upper left')\n",
    "plt.show()"
   ]
  },
  {
   "cell_type": "markdown",
   "metadata": {},
   "source": [
    "<p style='font-size: 18px; line-height: 1; margin: 0px 0px; text-align: center; text-indent: 0px; max-width: 75vw; margin:auto;'>\n",
    "<b>Loss:</b><br><br><br><b>Linha Azul (Train Loss):</b> Esta linha representa a perda do modelo no conjunto de dados de treinamento. Podemos ver que a perda diminui de maneira constante à medida que o número de épocas aumenta, o que indica que o modelo está aprendendo e melhorando seu desempenho no conjunto de treinamento ao longo do tempo.<br><br><b>Linha Laranja (Validation Loss):</b> Esta linha representa a perda do modelo no conjunto de dados de validação. Observamos que a perda diminui inicialmente, mas depois começa a se estabilizar até quinta época.<br><br><b>Overfitting: </b>O modelo está se ajustando bem aos dados de treinamento, sem indicativo de overfitting, que acontece quando um modelo aprende padrões específicos do conjunto de treinamento que não se generalizam bem para novos dados.<br><br><b>Conclusão: </b>O gráfico da esquerda mostra que a perda de treinamento (azul) e a perda de validação (laranja) diminuem à medida que o número de épocas aumenta. A perda de validação inicialmente diminui a um ritmo mais lento em comparação com a perda de treinamento, mas eventualmente, ambas parecem se estabilizar, com a perda de validação sendo ligeiramente maior do que a perda de treinamento. Isso é um bom sinal de que o modelo não está sofrendo de overfitting severo, já que a perda de validação segue a de treinamento de perto e não há um aumento significativo ou uma divergência grande entre as duas.\n",
    "<br><br><hr style='max-width: 50vw'>"
   ]
  },
  {
   "cell_type": "code",
   "execution_count": 31,
   "metadata": {},
   "outputs": [
    {
     "data": {
      "image/png": "[encoded data removed]",
      "text/plain": [
       "<Figure size 640x480 with 1 Axes>"
      ]
     },
     "metadata": {},
     "output_type": "display_data"
    }
   ],
   "source": [
    "# Criando o histórico visual da nossa ACCURACY\n",
    "plt.plot(history.history['accuracy'])\n",
    "plt.plot(history.history['val_accuracy'])\n",
    "plt.title('Model Accuracy')\n",
    "plt.ylabel('Accuracy')\n",
    "plt.xlabel('Epoch')\n",
    "plt.legend(['Train', 'Validation'], loc='upper left')\n",
    "plt.show()"
   ]
  },
  {
   "cell_type": "markdown",
   "metadata": {},
   "source": [
    "<p style='font-size: 18px; line-height: 1; margin: 0px 0px; text-align: center; text-indent: 0px; max-width: 75vw; margin:auto;'>\n",
    "<b>Accuracy:</b><br><br><br><b>Linha Azul (Train Loss):</b> Mostra um aumento na precisão ao longo do tempo no conjunto de treinamento, o que indica que o modelo está se ajustando bem aos dados de treinamento e aprendendo a classificar corretamente as amostras de treino.<br><br><b>Linha Laranja (Validation Loss):</b> A precisão no conjunto de validação permanece relativamente constante e não acompanha os aumentos observados na precisão de treinamento. A precisão de validação é consistentemente mais baixa do que a precisão de treinamento.<br><br><b>Avaliação de Desempenho: </b>A precisão de validação parece ter atingido um platô, o que pode sugerir que ajustes adicionais no modelo ou nos dados são necessários para obter melhorias no desempenho.<br><br><b>Conclusão: </b>O gráfico da direita mostra que a acurácia de treinamento (azul) e a acurácia de validação (laranja) aumentam com o tempo. A acurácia de validação parece começar um pouco abaixo da acurácia de treinamento, mas rapidamente converge para um valor semelhante. Ambas as curvas parecem se estabilizar rapidamente, o que pode indicar que o modelo rapidamente alcançou uma capacidade de generalização boa e que mais épocas de treinamento podem não ser necessárias. A acurácia parece ser muito alta (próxima de 97%), o que sugere que o modelo tem um desempenho muito bom na tarefa para a qual foi treinado.\n",
    "<br><br><hr style='max-width: 50vw'>"
   ]
  },
  {
   "cell_type": "code",
   "execution_count": 32,
   "metadata": {},
   "outputs": [
    {
     "name": "stdout",
     "output_type": "stream",
     "text": [
      "7/7 [==============================] - 0s 9ms/step\n",
      "              precision    recall  f1-score   support\n",
      "\n",
      "           0       0.96      1.00      0.98       192\n",
      "           1       0.00      0.00      0.00         8\n",
      "\n",
      "    accuracy                           0.96       200\n",
      "   macro avg       0.48      0.50      0.49       200\n",
      "weighted avg       0.92      0.96      0.94       200\n",
      "\n",
      "Matriz de Confusão:\n",
      " [[192   0]\n",
      " [  8   0]]\n",
      "AUC-ROC: 0.5\n",
      "\n"
     ]
    },
    {
     "name": "stderr",
     "output_type": "stream",
     "text": [
      "c:\\Users\\ersju\\Envs\\fiap\\Lib\\site-packages\\sklearn\\metrics\\_classification.py:1471: UndefinedMetricWarning: Precision and F-score are ill-defined and being set to 0.0 in labels with no predicted samples. Use `zero_division` parameter to control this behavior.\n",
      "  _warn_prf(average, modifier, msg_start, len(result))\n",
      "c:\\Users\\ersju\\Envs\\fiap\\Lib\\site-packages\\sklearn\\metrics\\_classification.py:1471: UndefinedMetricWarning: Precision and F-score are ill-defined and being set to 0.0 in labels with no predicted samples. Use `zero_division` parameter to control this behavior.\n",
      "  _warn_prf(average, modifier, msg_start, len(result))\n",
      "c:\\Users\\ersju\\Envs\\fiap\\Lib\\site-packages\\sklearn\\metrics\\_classification.py:1471: UndefinedMetricWarning: Precision and F-score are ill-defined and being set to 0.0 in labels with no predicted samples. Use `zero_division` parameter to control this behavior.\n",
      "  _warn_prf(average, modifier, msg_start, len(result))\n"
     ]
    }
   ],
   "source": [
    "# Fazendo previsões no conjunto de teste\n",
    "predictions = model.predict(X_test_reshaped)\n",
    "predicted_classes = np.round(predictions).flatten()  # Arredondando as previsões para obter a classe\n",
    "\n",
    "# Calculando e imprimindo as métricas de desempenho\n",
    "print(classification_report(y_test, predicted_classes))\n",
    "print(\"Matriz de Confusão:\\n\", confusion_matrix(y_test, predicted_classes))\n",
    "print(\"AUC-ROC:\", roc_auc_score(y_test, predicted_classes))\n",
    "print()"
   ]
  },
  {
   "cell_type": "markdown",
   "metadata": {},
   "source": [
    "<p style='text-align: center;'><b>•</b> Agora vamos concluir o modelo.</p><br><hr style='max-width: 50vw'><br><br>"
   ]
  },
  {
   "cell_type": "markdown",
   "metadata": {},
   "source": [
    "# <p style='font-size: 28px; color:#e91c5d; text-align: Center;'><b>5) Conclusão:</b></p>\n",
    "<hr style='border: 1px solid #e91c5d; 0px; max-width: 90vw' color=e91c5d><br>\n",
    "<p style='font-size: 18px; line-height: 1; margin: 0px 0px; text-align: center; text-indent: 0px; max-width: 75vw; margin:auto;'>"
   ]
  },
  {
   "cell_type": "markdown",
   "metadata": {},
   "source": [
    "<p style='font-size: 18px; line-height: 1; margin: 0px 0px; text-align: center; text-indent: 0px; max-width: 75vw; margin:auto;'>\n",
    "<b>Gravação do Modelo pré-treinado: </b>Vamos armazenar o modelo e deixa-lo disponível para carregamento pré-treinado."
   ]
  },
  {
   "cell_type": "code",
   "execution_count": 33,
   "metadata": {},
   "outputs": [
    {
     "name": "stdout",
     "output_type": "stream",
     "text": [
      "Modelo gravado com sucesso\n"
     ]
    },
    {
     "name": "stderr",
     "output_type": "stream",
     "text": [
      "c:\\Users\\ersju\\Envs\\fiap\\Lib\\site-packages\\keras\\src\\engine\\training.py:3079: UserWarning: You are saving your model as an HDF5 file via `model.save()`. This file format is considered legacy. We recommend using instead the native Keras format, e.g. `model.save('my_model.keras')`.\n",
      "  saving_api.save_model(\n"
     ]
    }
   ],
   "source": [
    "# Salvando o modelo no formado HDF5\n",
    "model.save('../Projeto Final/Modelos/modelo-qf.h5')\n",
    "\n",
    "# Arquitetura das camadas em JSON e pesos treinados em HDF5\n",
    "model.save_weights('../Projeto Final/Modelos/weights-qf.h5')\n",
    "with open('../Projeto Final/Modelos/architecture-qf.json', 'w') as f:\n",
    "    f.write(model.to_json())\n",
    "\n",
    "print(\"Modelo gravado com sucesso\")"
   ]
  },
  {
   "cell_type": "markdown",
   "metadata": {},
   "source": [
    "<p style='font-size: 18px; line-height: 1; margin: 0px 0px; text-align: center; text-indent: 0px; max-width: 75vw; margin:auto;'>\n",
    "<b>Carregamento do Modelo pré-treinado: </b>Vamos carregar e utilizar o modelo pré-treinado."
   ]
  },
  {
   "cell_type": "code",
   "execution_count": 34,
   "metadata": {},
   "outputs": [
    {
     "name": "stdout",
     "output_type": "stream",
     "text": [
      "Modelo carregado com sucesso\n"
     ]
    }
   ],
   "source": [
    "# Carregando o modelo no formato DHF5\n",
    "model = load_model('../Projeto Final/Modelos/modelo-qf.h5')\n",
    "\n",
    "# Arquitetura das camdas em JSON e pesos treinados em HDF5\n",
    "with open('../Projeto Final/Modelos/architecture-qf.json') as f:\n",
    "    model = model_from_json(f.read())\n",
    "\n",
    "model.load_weights('../Projeto Final/Modelos/weights-qf.h5')\n",
    "\n",
    "print('Modelo carregado com sucesso')"
   ]
  },
  {
   "cell_type": "markdown",
   "metadata": {},
   "source": [
    "<p style='font-size: 18px; line-height: 1; margin: 0px 0px; text-align: center; text-indent: 0px; max-width: 75vw; margin:auto;'>\n",
    "<b>Complilação do Modelo pré-treinado: </b>Vamos compilar o modelo pré-treinado."
   ]
  },
  {
   "cell_type": "code",
   "execution_count": 35,
   "metadata": {},
   "outputs": [
    {
     "name": "stdout",
     "output_type": "stream",
     "text": [
      "Modelo compilado: None\n"
     ]
    }
   ],
   "source": [
    "# Compilando o modelo carregado\n",
    "model.compile(optimizer='adam', loss='categorical_crossentropy', metrics=['accuracy'])\n",
    "print(f\"Modelo compilado: {model.compile(optimizer='adam', loss='categorical_crossentropy', metrics=['accuracy'])}\")"
   ]
  },
  {
   "cell_type": "code",
   "execution_count": 36,
   "metadata": {},
   "outputs": [
    {
     "name": "stdout",
     "output_type": "stream",
     "text": [
      "7/7 [==============================] - 0s 8ms/step\n"
     ]
    },
    {
     "data": {
      "text/plain": [
       "array([[0.04281779],\n",
       "       [0.04808983],\n",
       "       [0.04520387],\n",
       "       [0.05084612],\n",
       "       [0.04850163],\n",
       "       [0.04430998],\n",
       "       [0.04561233],\n",
       "       [0.04956293],\n",
       "       [0.0512524 ],\n",
       "       [0.05122625],\n",
       "       [0.04353377],\n",
       "       [0.04385168],\n",
       "       [0.04522254],\n",
       "       [0.04611058],\n",
       "       [0.0492795 ],\n",
       "       [0.04915457],\n",
       "       [0.04969499],\n",
       "       [0.04254957],\n",
       "       [0.04665273],\n",
       "       [0.04968214],\n",
       "       [0.05214337],\n",
       "       [0.04767867],\n",
       "       [0.04576795],\n",
       "       [0.04949382],\n",
       "       [0.04651794],\n",
       "       [0.04673516],\n",
       "       [0.05004966],\n",
       "       [0.04313852],\n",
       "       [0.04619687],\n",
       "       [0.0469022 ],\n",
       "       [0.05072372],\n",
       "       [0.0513909 ],\n",
       "       [0.04131219],\n",
       "       [0.05482101],\n",
       "       [0.04911311],\n",
       "       [0.04746871],\n",
       "       [0.05387021],\n",
       "       [0.0493097 ],\n",
       "       [0.04426408],\n",
       "       [0.05071587],\n",
       "       [0.04365205],\n",
       "       [0.04631514],\n",
       "       [0.04475529],\n",
       "       [0.04608015],\n",
       "       [0.04792497],\n",
       "       [0.04820624],\n",
       "       [0.04744157],\n",
       "       [0.04832937],\n",
       "       [0.0485907 ],\n",
       "       [0.0430371 ],\n",
       "       [0.04760627],\n",
       "       [0.0496369 ],\n",
       "       [0.0416608 ],\n",
       "       [0.04334163],\n",
       "       [0.04802184],\n",
       "       [0.04345591],\n",
       "       [0.05304929],\n",
       "       [0.04652784],\n",
       "       [0.04758899],\n",
       "       [0.04420685],\n",
       "       [0.04671211],\n",
       "       [0.04746323],\n",
       "       [0.04265665],\n",
       "       [0.05087556],\n",
       "       [0.04453947],\n",
       "       [0.0521762 ],\n",
       "       [0.04344605],\n",
       "       [0.04337847],\n",
       "       [0.04641505],\n",
       "       [0.04725346],\n",
       "       [0.04408172],\n",
       "       [0.04827594],\n",
       "       [0.04529045],\n",
       "       [0.04337191],\n",
       "       [0.04661712],\n",
       "       [0.04992863],\n",
       "       [0.04925626],\n",
       "       [0.05136903],\n",
       "       [0.04552088],\n",
       "       [0.04722715],\n",
       "       [0.04713456],\n",
       "       [0.04708174],\n",
       "       [0.04784714],\n",
       "       [0.04629225],\n",
       "       [0.04605248],\n",
       "       [0.05043922],\n",
       "       [0.05261187],\n",
       "       [0.04602377],\n",
       "       [0.04968263],\n",
       "       [0.04147445],\n",
       "       [0.0504213 ],\n",
       "       [0.0456208 ],\n",
       "       [0.04831067],\n",
       "       [0.04522543],\n",
       "       [0.0430382 ],\n",
       "       [0.04384994],\n",
       "       [0.04798157],\n",
       "       [0.04874983],\n",
       "       [0.04556869],\n",
       "       [0.04384022],\n",
       "       [0.04260156],\n",
       "       [0.04892   ],\n",
       "       [0.04609063],\n",
       "       [0.0466855 ],\n",
       "       [0.04600089],\n",
       "       [0.05027828],\n",
       "       [0.04345984],\n",
       "       [0.0508644 ],\n",
       "       [0.04865598],\n",
       "       [0.04922161],\n",
       "       [0.05014883],\n",
       "       [0.04679486],\n",
       "       [0.04734859],\n",
       "       [0.0510732 ],\n",
       "       [0.04356703],\n",
       "       [0.04593213],\n",
       "       [0.0475876 ],\n",
       "       [0.0469204 ],\n",
       "       [0.04808117],\n",
       "       [0.05157873],\n",
       "       [0.05114783],\n",
       "       [0.04995193],\n",
       "       [0.0496003 ],\n",
       "       [0.04634568],\n",
       "       [0.04691321],\n",
       "       [0.04572528],\n",
       "       [0.04906079],\n",
       "       [0.04328985],\n",
       "       [0.04645945],\n",
       "       [0.04674696],\n",
       "       [0.05109327],\n",
       "       [0.04442842],\n",
       "       [0.04518546],\n",
       "       [0.05169573],\n",
       "       [0.04757092],\n",
       "       [0.04508408],\n",
       "       [0.04892357],\n",
       "       [0.04932002],\n",
       "       [0.05154989],\n",
       "       [0.04815171],\n",
       "       [0.05278155],\n",
       "       [0.044362  ],\n",
       "       [0.04659429],\n",
       "       [0.0496716 ],\n",
       "       [0.05502087],\n",
       "       [0.04549884],\n",
       "       [0.0475683 ],\n",
       "       [0.04960927],\n",
       "       [0.04519748],\n",
       "       [0.04567714],\n",
       "       [0.05023473],\n",
       "       [0.04343805],\n",
       "       [0.04806089],\n",
       "       [0.04479033],\n",
       "       [0.0465274 ],\n",
       "       [0.04847133],\n",
       "       [0.04723575],\n",
       "       [0.04938517],\n",
       "       [0.05068676],\n",
       "       [0.04781602],\n",
       "       [0.04895266],\n",
       "       [0.04772678],\n",
       "       [0.04748798],\n",
       "       [0.04450913],\n",
       "       [0.04466362],\n",
       "       [0.04862427],\n",
       "       [0.04857688],\n",
       "       [0.04913424],\n",
       "       [0.05065621],\n",
       "       [0.05058721],\n",
       "       [0.04528577],\n",
       "       [0.04549927],\n",
       "       [0.04884834],\n",
       "       [0.04546297],\n",
       "       [0.04603283],\n",
       "       [0.04294363],\n",
       "       [0.05447608],\n",
       "       [0.04948156],\n",
       "       [0.04419787],\n",
       "       [0.0519826 ],\n",
       "       [0.05134906],\n",
       "       [0.04725369],\n",
       "       [0.0470183 ],\n",
       "       [0.04715858],\n",
       "       [0.04768813],\n",
       "       [0.04670961],\n",
       "       [0.05008188],\n",
       "       [0.04784105],\n",
       "       [0.04962189],\n",
       "       [0.04764043],\n",
       "       [0.0498109 ],\n",
       "       [0.04720617],\n",
       "       [0.04789616],\n",
       "       [0.04428679],\n",
       "       [0.04678674],\n",
       "       [0.05444583],\n",
       "       [0.04498346],\n",
       "       [0.0489767 ],\n",
       "       [0.05123612],\n",
       "       [0.04423983]], dtype=float32)"
      ]
     },
     "execution_count": 36,
     "metadata": {},
     "output_type": "execute_result"
    }
   ],
   "source": [
    "# Predict do modelo carregado\n",
    "previsoes = model.predict(X_test_reshaped)\n",
    "previsoes"
   ]
  },
  {
   "cell_type": "code",
   "execution_count": 37,
   "metadata": {},
   "outputs": [
    {
     "name": "stdout",
     "output_type": "stream",
     "text": [
      "5/5 [==============================] - 0s 9ms/step - loss: 0.0000e+00 - accuracy: 0.9688\n",
      "Loss: 0.0, Accuracy: 0.96875\n"
     ]
    },
    {
     "name": "stderr",
     "output_type": "stream",
     "text": [
      "c:\\Users\\ersju\\Envs\\fiap\\Lib\\site-packages\\tensorflow\\python\\util\\dispatch.py:1260: SyntaxWarning: In loss categorical_crossentropy, expected y_pred.shape to be (batch_size, num_classes) with num_classes > 1. Received: y_pred.shape=(32, 1). Consider using 'binary_crossentropy' if you only have 2 classes.\n",
      "  return dispatch_target(*args, **kwargs)\n"
     ]
    }
   ],
   "source": [
    "# resultado, loss = model.evaluate(X_val, y_val)\n",
    "loss, accuracy = model.evaluate(X_val, y_val)\n",
    "print(f'Loss: {loss}, Accuracy: {accuracy}')"
   ]
  },
  {
   "cell_type": "code",
   "execution_count": 38,
   "metadata": {},
   "outputs": [
    {
     "data": {
      "image/png": "[encoded data removed]",
      "text/plain": [
       "<Figure size 1200x500 with 2 Axes>"
      ]
     },
     "metadata": {},
     "output_type": "display_data"
    }
   ],
   "source": [
    "# Configura o tamanho da figura para uma melhor visualização\n",
    "plt.figure(figsize=(12, 5))\n",
    "\n",
    "# Cria o primeiro subplot para a perda (loss)\n",
    "plt.subplot(1, 2, 1)  # 1 linha, 2 colunas, primeiro subplot\n",
    "plt.plot(history.history['loss'], label='Train')\n",
    "plt.plot(history.history['val_loss'], label='Validation')\n",
    "plt.title('Model Loss')\n",
    "plt.ylabel('Loss')\n",
    "plt.xlabel('Epoch')\n",
    "plt.legend(loc='upper left')\n",
    "\n",
    "# Cria o segundo subplot para a acurácia (accuracy)\n",
    "plt.subplot(1, 2, 2)  # 1 linha, 2 colunas, segundo subplot\n",
    "plt.plot(history.history['accuracy'], label='Train')\n",
    "plt.plot(history.history['val_accuracy'], label='Validation')\n",
    "plt.title('Model Accuracy')\n",
    "plt.ylabel('Accuracy')\n",
    "plt.xlabel('Epoch')\n",
    "plt.legend(loc='upper left')\n",
    "\n",
    "# Mostra os gráficos\n",
    "plt.show()"
   ]
  },
  {
   "cell_type": "code",
   "execution_count": 39,
   "metadata": {},
   "outputs": [
    {
     "name": "stdout",
     "output_type": "stream",
     "text": [
      "Model: \"sequential\"\n",
      "_________________________________________________________________\n",
      " Layer (type)                Output Shape              Param #   \n",
      "=================================================================\n",
      " conv1d (Conv1D)             (None, 2206, 64)          256       \n",
      "                                                                 \n",
      " dropout (Dropout)           (None, 2206, 64)          0         \n",
      "                                                                 \n",
      " flatten (Flatten)           (None, 141184)            0         \n",
      "                                                                 \n",
      " dense (Dense)               (None, 50)                7059250   \n",
      "                                                                 \n",
      " dense_1 (Dense)             (None, 1)                 51        \n",
      "                                                                 \n",
      "=================================================================\n",
      "Total params: 7059557 (26.93 MB)\n",
      "Trainable params: 7059557 (26.93 MB)\n",
      "Non-trainable params: 0 (0.00 Byte)\n",
      "_________________________________________________________________\n"
     ]
    }
   ],
   "source": [
    "# Resumo do modelo\n",
    "model.summary()"
   ]
  },
  {
   "cell_type": "markdown",
   "metadata": {},
   "source": [
    "# <p style='font-size: 28px; color:#e91c5d; text-align: Center;'><b>6) Apresentação de Resultados:</b></p>\n",
    "<hr style='border: 1px solid #e91c5d; 0px; max-width: 90vw' color=e91c5d><br>\n",
    "<p style='font-size: 18px; line-height: 1; margin: 0px 0px; text-align: center; text-indent: 0px; max-width: 75vw; margin:auto;'>\n",
    "<b>Desafio: </b>Prepare um relatório técnico que descreva seu processo de modelagem, escolha de arquitetura, hiperparâmetros e resultados de desempenho. Também destaque quaisquer insights ou observações importantes da análise."
   ]
  },
  {
   "cell_type": "markdown",
   "metadata": {},
   "source": [
    "<p style='font-size: 18px; line-height: 1; margin: 0px 0px; text-align: center; text-indent: 0px; max-width: 75vw; margin:auto;'>\n",
    "<b>O relatório estará disponível junto com o arquivo final.</b>"
   ]
  }
 ],
 "metadata": {
  "kernelspec": {
   "display_name": "fiap",
   "language": "python",
   "name": "python3"
  },
  "language_info": {
   "codemirror_mode": {
    "name": "ipython",
    "version": 3
   },
   "file_extension": ".py",
   "mimetype": "text/x-python",
   "name": "python",
   "nbconvert_exporter": "python",
   "pygments_lexer": "ipython3",
   "version": "3.11.5"
  }
 },
 "nbformat": 4,
 "nbformat_minor": 2
}
